{
  "nbformat": 4,
  "nbformat_minor": 0,
  "metadata": {
    "colab": {
      "provenance": [],
      "authorship_tag": "ABX9TyMlmmgmOmB9J+IAN7jnrGKX",
      "include_colab_link": true
    },
    "kernelspec": {
      "name": "python3",
      "display_name": "Python 3"
    },
    "language_info": {
      "name": "python"
    }
  },
  "cells": [
    {
      "cell_type": "markdown",
      "metadata": {
        "id": "view-in-github",
        "colab_type": "text"
      },
      "source": [
        "<a href=\"https://colab.research.google.com/github/natalia7244/Python-Exercises/blob/main/18.ipynb\" target=\"_parent\"><img src=\"https://colab.research.google.com/assets/colab-badge.svg\" alt=\"Open In Colab\"/></a>"
      ]
    },
    {
      "cell_type": "markdown",
      "source": [
        "# Program, który pomaga w codziennym rozwoju. By.... nie odkładać żadnego z tematów w nieskończoność \"na później\"..."
      ],
      "metadata": {
        "id": "m2DpWWR7_Asv"
      }
    },
    {
      "cell_type": "code",
      "source": [
        "import random\n",
        "\n",
        "zadania = [\"zrób 5 zadanek z SQL\", \"ulepszysz świeczkową bazę danych\", \"poćwicz NLP w Pythonie\", \"bawisz się LM w Pythonie\",\n",
        "           \"ćwiczysz wizualizację danych w Pythonie\", \"robisz zadanko z Excela\", \"kursik na Kaggle\"]\n",
        "wybrane_zadanie = random.choice(zadania)\n",
        "\n",
        "cytaty = [\n",
        "    \"Człowiek ma w życiu albo wymówki, albo wyniki.\",\n",
        "    \"Nie musisz być wielki, żeby zacząć. Ale musisz zacząć, żeby być wielki.\",\n",
        "    \"Nie czekaj na idealny moment. Weź ten, który masz i zrób go idealnym.\",\n",
        "    \"Twój przyszły ja podziękuje ci za to, co zrobisz dziś.\",\n",
        "    \"Albo znajdujesz sposób, albo szukasz wymówki. Środków brak.\",\n",
        "    \"Dyscyplina to robienie tego, na co nie masz ochoty, kiedy nie masz ochoty.\",\n",
        "    \"Każdy dzień to nowa szansa, żeby zbliżyć się do celu. Albo się oddalić.\",\n",
        "    \"Marzenia są za darmo. Realizacja kosztuje.\",\n",
        "    \"Nie musisz widzieć całych schodów. Wystarczy, że zrobisz pierwszy krok.\",\n",
        "    \"Nikt nie zrobi tego za ciebie. Ale możesz to zrobić dla siebie.\"]\n",
        "wybrany_cytat = random.choice(cytaty)\n",
        "\n",
        "print(f\"Dzisiaj {wybrane_zadanie}! \\n {wybrany_cytat}\")"
      ],
      "metadata": {
        "colab": {
          "base_uri": "https://localhost:8080/"
        },
        "id": "a1OyPal5_1vU",
        "outputId": "600c405c-94e8-43d4-d822-2678dfbdb37f"
      },
      "execution_count": 16,
      "outputs": [
        {
          "output_type": "stream",
          "name": "stdout",
          "text": [
            "Dzisiaj bawisz się LM w Pythonie! \n",
            " Albo znajdujesz sposób, albo szukasz wymówki. Środków brak.\n"
          ]
        }
      ]
    },
    {
      "cell_type": "code",
      "source": [
        "from datetime import datetime\n",
        "\n",
        "with open(\"historia.txt\", \"a\") as plik:\n",
        "    plik.write(f\"{datetime.now()}: {wybrane_zadanie}\\n\")\n"
      ],
      "metadata": {
        "id": "MryHKIhiCplp"
      },
      "execution_count": 17,
      "outputs": []
    },
    {
      "cell_type": "code",
      "source": [
        "with open(\"historia.txt\", \"r\") as plik:\n",
        "    zawartosc = plik.read()\n",
        "    print(zawartosc)"
      ],
      "metadata": {
        "colab": {
          "base_uri": "https://localhost:8080/"
        },
        "id": "GXlAxz3bD2mH",
        "outputId": "d72df671-d5ce-4c20-a856-b49b90443d50"
      },
      "execution_count": 18,
      "outputs": [
        {
          "output_type": "stream",
          "name": "stdout",
          "text": [
            "2025-04-08 20:18:26.992302: zrób 5 zadanek z SQL\n",
            "2025-04-08 20:21:38.720630: ćwiczysz wizualizację danych w Pythonie\n",
            "2025-04-08 20:27:08.814124: bawisz się LM w Pythonie\n",
            "\n"
          ]
        }
      ]
    }
  ]
}