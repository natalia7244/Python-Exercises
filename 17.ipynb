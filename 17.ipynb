{
  "nbformat": 4,
  "nbformat_minor": 0,
  "metadata": {
    "colab": {
      "provenance": [],
      "collapsed_sections": [
        "v5nnFouj2lF1",
        "ZjMY3ktG4PLr",
        "4FMka0wA5OUv",
        "Upg4yo_4_0Dg",
        "FaMHw2g-C2QT",
        "w0ulsDROHQ82",
        "6g2uGV3Qb5Kg",
        "yM58zlG9lpAM",
        "vAWel5GfpBF-",
        "hKYZVwnFrktq",
        "pqcy8rpMrjci",
        "uGXvawkq2Ww6",
        "C9phpwop6kMd",
        "fgUBgTWwJEOV",
        "L3c_zjDENfdL",
        "PR-H6EDRP7BW"
      ],
      "toc_visible": true,
      "authorship_tag": "ABX9TyO+2tGlK2jubWm+uaCSwGFt",
      "include_colab_link": true
    },
    "kernelspec": {
      "name": "python3",
      "display_name": "Python 3"
    },
    "language_info": {
      "name": "python"
    }
  },
  "cells": [
    {
      "cell_type": "markdown",
      "metadata": {
        "id": "view-in-github",
        "colab_type": "text"
      },
      "source": [
        "<a href=\"https://colab.research.google.com/github/natalia7244/Python-Exercises/blob/main/17.ipynb\" target=\"_parent\"><img src=\"https://colab.research.google.com/assets/colab-badge.svg\" alt=\"Open In Colab\"/></a>"
      ]
    },
    {
      "cell_type": "markdown",
      "source": [
        "# ZADANIE 1"
      ],
      "metadata": {
        "id": "v5nnFouj2lF1"
      }
    },
    {
      "cell_type": "code",
      "source": [
        "c = float(input(\"Podaj temperaturę w stopniach Celsjusza: \"))\n",
        "print(\"Temperatura w skali Fahrenheita to: \", c*1.8 + 32, \".\" )"
      ],
      "metadata": {
        "colab": {
          "base_uri": "https://localhost:8080/"
        },
        "id": "NeuD2Ak72q5k",
        "outputId": "1f745ae7-9241-4492-f266-490ef65e6ab7"
      },
      "execution_count": null,
      "outputs": [
        {
          "output_type": "stream",
          "name": "stdout",
          "text": [
            "Podaj temperaturę w stopniach Celsjusza: 45\n",
            "Temperatura w skali Fahrenheita to:  113.0 .\n"
          ]
        }
      ]
    },
    {
      "cell_type": "markdown",
      "source": [
        "# ZADANIE 2\n"
      ],
      "metadata": {
        "id": "ZjMY3ktG4PLr"
      }
    },
    {
      "cell_type": "code",
      "source": [
        "cm = float(input(\"Podaj długość w cm: \"))\n",
        "print(\"Długość w metrach to \", cm/100, \", a długość w kilometrach to\", cm/100000, \".\" )"
      ],
      "metadata": {
        "colab": {
          "base_uri": "https://localhost:8080/"
        },
        "id": "iLqxEt0j4TVg",
        "outputId": "42b2deb2-1b10-49de-8bea-08edc46c1a46"
      },
      "execution_count": null,
      "outputs": [
        {
          "output_type": "stream",
          "name": "stdout",
          "text": [
            "Podaj długość w cm: 200\n",
            "Długość w metrach to  2.0 , a długość w kilometrach to 0.002 .\n"
          ]
        }
      ]
    },
    {
      "cell_type": "markdown",
      "source": [
        "#ZADANIE 3\n"
      ],
      "metadata": {
        "id": "4FMka0wA5OUv"
      }
    },
    {
      "cell_type": "code",
      "source": [
        "a = input(\"Podaj pierwszą liczbę: \")\n",
        "b = input(\"Podaj drugą liczbę: \")\n",
        "c = input(\"Podaj trzecią liczbę: \")\n",
        "print(\"Największa liczba w zestawie to:\", max(a,b,c),\n",
        "      \",a najmniejsza to\", min(a,b,c), \".\")"
      ],
      "metadata": {
        "id": "-Ep6dyFv5Tm3"
      },
      "execution_count": null,
      "outputs": []
    },
    {
      "cell_type": "markdown",
      "source": [
        "# ZADANIE 4"
      ],
      "metadata": {
        "id": "Upg4yo_4_0Dg"
      }
    },
    {
      "cell_type": "code",
      "source": [
        "a = float(input(\"Podaj pierwszą liczbę: \"))\n",
        "b = float(input(\"Podaj drugą liczbę: \"))\n",
        "c = float(input(\"Podaj trzecią liczbę: \"))\n",
        "print(\"Średnia arytmetyczna Twoich liczb to: \", round(((a+b+c)/3),2), \".\")"
      ],
      "metadata": {
        "colab": {
          "base_uri": "https://localhost:8080/"
        },
        "outputId": "9e9850ac-331c-43bb-dd84-ba452cb4a1db",
        "id": "ZF1zAIG3ABdh"
      },
      "execution_count": null,
      "outputs": [
        {
          "output_type": "stream",
          "name": "stdout",
          "text": [
            "Podaj pierwszą liczbę: 3\n",
            "Podaj drugą liczbę: 4\n",
            "Podaj trzecią liczbę: 5\n",
            "Średnia arytmetyczna Twoich liczb to:  4.0 .\n"
          ]
        }
      ]
    },
    {
      "cell_type": "markdown",
      "source": [
        "# ZADANIE 5\n"
      ],
      "metadata": {
        "id": "FaMHw2g-C2QT"
      }
    },
    {
      "cell_type": "code",
      "source": [
        "a = float(input(\"Podaj pierwszą liczbę: \"))\n",
        "b = float(input(\"Podaj drugą liczbę: \"))\n",
        "c = float(input(\"Podaj trzecią liczbę: \"))\n",
        "min_all_val = min(a,b,c)\n",
        "max_all_val = max(a,b,c)\n",
        "aa = (a - min_all_val)/(max_all_val-min_all_val)\n",
        "bb = (b - min_all_val)/(max_all_val-min_all_val)\n",
        "cc = (c - min_all_val)/(max_all_val-min_all_val)\n",
        "print(\"a'= \", aa)\n",
        "print(\"b'=\", bb)\n",
        "print(\"c' =\", cc)"
      ],
      "metadata": {
        "colab": {
          "base_uri": "https://localhost:8080/"
        },
        "id": "afrEs3xXC7zz",
        "outputId": "13a4db7c-c198-4e03-8912-e924cba9b85e"
      },
      "execution_count": null,
      "outputs": [
        {
          "output_type": "stream",
          "name": "stdout",
          "text": [
            "Podaj pierwszą liczbę: 6\n",
            "Podaj drugą liczbę: 9\n",
            "Podaj trzecią liczbę: 26\n",
            "a'=  0.0\n",
            "b'= 0.15\n",
            "c' = 1.0\n"
          ]
        }
      ]
    },
    {
      "cell_type": "code",
      "source": [
        "liczba = int(input(\"Podaj pierwszą liczbę: \"))\n",
        "lista_liczb = []\n",
        "while liczba != \"T\"\n",
        "lista.liczb.append(liczba)\n",
        "liczba = int(input)"
      ],
      "metadata": {
        "id": "TlGKekGWfFld"
      },
      "execution_count": null,
      "outputs": []
    },
    {
      "cell_type": "markdown",
      "source": [
        "# ZADANIE 6"
      ],
      "metadata": {
        "id": "w0ulsDROHQ82"
      }
    },
    {
      "cell_type": "code",
      "source": [
        "waga = float(input(\"Podaj wagę w kilogramach: \"))\n",
        "wzrost = float(input(\"Podaj wzrost w metrach: \"))\n",
        "BMI = waga/(wzrost**2)\n",
        "if BMI > 18.5 and BMI < 24.9:\n",
        "    print(\"Waga prawidłowa.\")\n",
        "if BMI < 18.5:\n",
        "    print(\"Niedowaga.\")\n",
        "if BMI > 24.9:\n",
        "    print(\"Nadwaga.\")\n",
        "if BMI == 18.5 or BMI == 24.5:\n",
        "    print(\"Twoje BMI jest na granicy.\")\n",
        "\n",
        "print(BMI)"
      ],
      "metadata": {
        "colab": {
          "base_uri": "https://localhost:8080/",
          "height": 356
        },
        "id": "XscMXdPkHTWe",
        "outputId": "e8dab332-83f7-465e-a48c-bf477574cf06"
      },
      "execution_count": null,
      "outputs": [
        {
          "output_type": "error",
          "ename": "KeyboardInterrupt",
          "evalue": "Interrupted by user",
          "traceback": [
            "\u001b[0;31m---------------------------------------------------------------------------\u001b[0m",
            "\u001b[0;31mKeyboardInterrupt\u001b[0m                         Traceback (most recent call last)",
            "\u001b[0;32m<ipython-input-4-506a1aa79a20>\u001b[0m in \u001b[0;36m<cell line: 0>\u001b[0;34m()\u001b[0m\n\u001b[0;32m----> 1\u001b[0;31m \u001b[0mwaga\u001b[0m \u001b[0;34m=\u001b[0m \u001b[0mfloat\u001b[0m\u001b[0;34m(\u001b[0m\u001b[0minput\u001b[0m\u001b[0;34m(\u001b[0m\u001b[0;34m\"Podaj wagę w kilogramach: \"\u001b[0m\u001b[0;34m)\u001b[0m\u001b[0;34m)\u001b[0m\u001b[0;34m\u001b[0m\u001b[0;34m\u001b[0m\u001b[0m\n\u001b[0m\u001b[1;32m      2\u001b[0m \u001b[0mwzrost\u001b[0m \u001b[0;34m=\u001b[0m \u001b[0mfloat\u001b[0m\u001b[0;34m(\u001b[0m\u001b[0minput\u001b[0m\u001b[0;34m(\u001b[0m\u001b[0;34m\"Podaj wzrost w metrach: \"\u001b[0m\u001b[0;34m)\u001b[0m\u001b[0;34m)\u001b[0m\u001b[0;34m\u001b[0m\u001b[0;34m\u001b[0m\u001b[0m\n\u001b[1;32m      3\u001b[0m \u001b[0mBMI\u001b[0m \u001b[0;34m=\u001b[0m \u001b[0mwaga\u001b[0m\u001b[0;34m/\u001b[0m\u001b[0;34m(\u001b[0m\u001b[0mwzrost\u001b[0m\u001b[0;34m**\u001b[0m\u001b[0;36m2\u001b[0m\u001b[0;34m)\u001b[0m\u001b[0;34m\u001b[0m\u001b[0;34m\u001b[0m\u001b[0m\n\u001b[1;32m      4\u001b[0m \u001b[0;32mif\u001b[0m \u001b[0mBMI\u001b[0m \u001b[0;34m>\u001b[0m \u001b[0;36m18.5\u001b[0m \u001b[0;32mand\u001b[0m \u001b[0mBMI\u001b[0m \u001b[0;34m<\u001b[0m \u001b[0;36m24.9\u001b[0m\u001b[0;34m:\u001b[0m\u001b[0;34m\u001b[0m\u001b[0;34m\u001b[0m\u001b[0m\n\u001b[1;32m      5\u001b[0m     \u001b[0mprint\u001b[0m\u001b[0;34m(\u001b[0m\u001b[0;34m\"Waga prawidłowa.\"\u001b[0m\u001b[0;34m)\u001b[0m\u001b[0;34m\u001b[0m\u001b[0;34m\u001b[0m\u001b[0m\n",
            "\u001b[0;32m/usr/local/lib/python3.11/dist-packages/ipykernel/kernelbase.py\u001b[0m in \u001b[0;36mraw_input\u001b[0;34m(self, prompt)\u001b[0m\n\u001b[1;32m    849\u001b[0m                 \u001b[0;34m\"raw_input was called, but this frontend does not support input requests.\"\u001b[0m\u001b[0;34m\u001b[0m\u001b[0;34m\u001b[0m\u001b[0m\n\u001b[1;32m    850\u001b[0m             )\n\u001b[0;32m--> 851\u001b[0;31m         return self._input_request(str(prompt),\n\u001b[0m\u001b[1;32m    852\u001b[0m             \u001b[0mself\u001b[0m\u001b[0;34m.\u001b[0m\u001b[0m_parent_ident\u001b[0m\u001b[0;34m,\u001b[0m\u001b[0;34m\u001b[0m\u001b[0;34m\u001b[0m\u001b[0m\n\u001b[1;32m    853\u001b[0m             \u001b[0mself\u001b[0m\u001b[0;34m.\u001b[0m\u001b[0m_parent_header\u001b[0m\u001b[0;34m,\u001b[0m\u001b[0;34m\u001b[0m\u001b[0;34m\u001b[0m\u001b[0m\n",
            "\u001b[0;32m/usr/local/lib/python3.11/dist-packages/ipykernel/kernelbase.py\u001b[0m in \u001b[0;36m_input_request\u001b[0;34m(self, prompt, ident, parent, password)\u001b[0m\n\u001b[1;32m    893\u001b[0m             \u001b[0;32mexcept\u001b[0m \u001b[0mKeyboardInterrupt\u001b[0m\u001b[0;34m:\u001b[0m\u001b[0;34m\u001b[0m\u001b[0;34m\u001b[0m\u001b[0m\n\u001b[1;32m    894\u001b[0m                 \u001b[0;31m# re-raise KeyboardInterrupt, to truncate traceback\u001b[0m\u001b[0;34m\u001b[0m\u001b[0;34m\u001b[0m\u001b[0m\n\u001b[0;32m--> 895\u001b[0;31m                 \u001b[0;32mraise\u001b[0m \u001b[0mKeyboardInterrupt\u001b[0m\u001b[0;34m(\u001b[0m\u001b[0;34m\"Interrupted by user\"\u001b[0m\u001b[0;34m)\u001b[0m \u001b[0;32mfrom\u001b[0m \u001b[0;32mNone\u001b[0m\u001b[0;34m\u001b[0m\u001b[0;34m\u001b[0m\u001b[0m\n\u001b[0m\u001b[1;32m    896\u001b[0m             \u001b[0;32mexcept\u001b[0m \u001b[0mException\u001b[0m \u001b[0;32mas\u001b[0m \u001b[0me\u001b[0m\u001b[0;34m:\u001b[0m\u001b[0;34m\u001b[0m\u001b[0;34m\u001b[0m\u001b[0m\n\u001b[1;32m    897\u001b[0m                 \u001b[0mself\u001b[0m\u001b[0;34m.\u001b[0m\u001b[0mlog\u001b[0m\u001b[0;34m.\u001b[0m\u001b[0mwarning\u001b[0m\u001b[0;34m(\u001b[0m\u001b[0;34m\"Invalid Message:\"\u001b[0m\u001b[0;34m,\u001b[0m \u001b[0mexc_info\u001b[0m\u001b[0;34m=\u001b[0m\u001b[0;32mTrue\u001b[0m\u001b[0;34m)\u001b[0m\u001b[0;34m\u001b[0m\u001b[0;34m\u001b[0m\u001b[0m\n",
            "\u001b[0;31mKeyboardInterrupt\u001b[0m: Interrupted by user"
          ]
        }
      ]
    },
    {
      "cell_type": "markdown",
      "source": [
        "# ZADANIE 7"
      ],
      "metadata": {
        "id": "6g2uGV3Qb5Kg"
      }
    },
    {
      "cell_type": "code",
      "source": [
        "cena = float(input(\"Podaj cenę towaru: \"))\n",
        "rata = int(input(\"Podaj ilość rat: \"))\n",
        "if cena > 100 and cena < 10000 and rata > 6 and rata < 48:\n",
        "    if rata > 6 and rata <= 12:\n",
        "        print(\"Miesięczna rata Twojego kredytu to: \", (cena*0.025+cena)/rata , \".\")\n",
        "    if rata > 13 and rata <= 24:\n",
        "        print(\"Miesięczna rata Twojego kredytu to: \", (cena*0.05+cena)/rata , \".\")\n",
        "    if rata > 25 and rata <= 48:\n",
        "        print(\"Miesięczna rata Twojego kredytu to: \", (cena*0.1+cena)/rata , \".\")\n",
        "elif cena <= 100 or cena >= 10000 or rata <=6 or rata >=48:\n",
        "    print( \" Wpisz właściwe dane\")\n",
        "\n"
      ],
      "metadata": {
        "id": "hi549q-db9lf"
      },
      "execution_count": null,
      "outputs": []
    },
    {
      "cell_type": "markdown",
      "source": [
        "#ZADANIE 8\n"
      ],
      "metadata": {
        "id": "yM58zlG9lpAM"
      }
    },
    {
      "cell_type": "code",
      "source": [
        "a = int(input(\"Podaj liczbę całkowitą: \"))\n",
        "lista = []\n",
        "i=0\n",
        "while i <= a:\n",
        "    if i % 2 != 0:\n",
        "        lista.append(i)\n",
        "    i += 1\n",
        "print(lista)\n",
        "\n"
      ],
      "metadata": {
        "colab": {
          "base_uri": "https://localhost:8080/"
        },
        "id": "tZ40rM-vlrv8",
        "outputId": "97d12f00-c969-4d3f-a9e8-2844a3b467e1"
      },
      "execution_count": null,
      "outputs": [
        {
          "output_type": "stream",
          "name": "stdout",
          "text": [
            "Podaj liczbę całkowitą: 3\n",
            "[1, 3]\n"
          ]
        }
      ]
    },
    {
      "cell_type": "markdown",
      "source": [
        "# ZADANIE 9"
      ],
      "metadata": {
        "id": "vAWel5GfpBF-"
      }
    },
    {
      "cell_type": "code",
      "source": [
        "a = int(input(\"Podaj pierwszą liczbę całkowitą :\"))\n",
        "b = int(input(\"Podaj drugą liczbę całkowitą, która jest większa od pierwszej :\"))\n",
        "\n",
        "if a >= b:\n",
        "    print(\"Druga liczba musi być większa od pierwszej.\")\n",
        "else:\n",
        "    suma_while = 0\n",
        "    i = a\n",
        "    while i < b:\n",
        "        suma_while += i\n",
        "        i += 1\n",
        "    suma_for = 0\n",
        "    for i in range(a,b):\n",
        "        suma_for += i\n",
        "\n",
        "print(\"Suma obliczona za pomocą while:\", suma_while);\n",
        "print(\"Suma obliczona za pomocą for:\", suma_for)\n"
      ],
      "metadata": {
        "colab": {
          "base_uri": "https://localhost:8080/"
        },
        "id": "g5TE0-7PrLL5",
        "outputId": "5d7308b0-9372-4cf4-b094-2a5ef769a9cf"
      },
      "execution_count": null,
      "outputs": [
        {
          "output_type": "stream",
          "name": "stdout",
          "text": [
            "Podaj pierwszą liczbę całkowitą :10\n",
            "Podaj drugą liczbę całkowitą, która jest większa od pierwszej :12\n",
            "Suma obliczona za pomocą while: 21\n",
            "Suma oblicozna za pomocą for: 21\n"
          ]
        }
      ]
    },
    {
      "cell_type": "markdown",
      "source": [
        "# ZADANIE 10"
      ],
      "metadata": {
        "id": "hKYZVwnFrktq"
      }
    },
    {
      "cell_type": "code",
      "source": [
        "n = int(input(\"Podaj liczbę całkowitą dodatnią: \"))\n",
        "i = 1\n",
        " while i < n:\n",
        "    print(i)\n",
        "    i = 2*i\n"
      ],
      "metadata": {
        "id": "3evyEL9GpDwU",
        "colab": {
          "base_uri": "https://localhost:8080/"
        },
        "outputId": "fe49822a-6660-4ace-e4f8-051cbeb85aee"
      },
      "execution_count": null,
      "outputs": [
        {
          "output_type": "stream",
          "name": "stdout",
          "text": [
            "Podaj liczbę całkowitą dodatnią: 540\n",
            "1\n",
            "2\n",
            "4\n",
            "8\n",
            "16\n",
            "32\n",
            "64\n",
            "128\n",
            "256\n",
            "512\n"
          ]
        }
      ]
    },
    {
      "cell_type": "markdown",
      "source": [
        "# ZADANIE 11"
      ],
      "metadata": {
        "id": "pqcy8rpMrjci"
      }
    },
    {
      "cell_type": "code",
      "source": [
        "a = float(input(\"Podaj liczbę: \"))\n",
        "i = 0\n",
        "while a != 0:\n",
        "    i += a\n",
        "    a = float(input(\"Podaj liczbę: \"))\n",
        "print(\"Suma liczb to:\", i)"
      ],
      "metadata": {
        "colab": {
          "base_uri": "https://localhost:8080/",
          "height": 356
        },
        "id": "zb-3DrfOz1EL",
        "outputId": "c563d503-9bab-413c-beaa-9c4b0c9def41"
      },
      "execution_count": null,
      "outputs": [
        {
          "output_type": "error",
          "ename": "KeyboardInterrupt",
          "evalue": "Interrupted by user",
          "traceback": [
            "\u001b[0;31m---------------------------------------------------------------------------\u001b[0m",
            "\u001b[0;31mKeyboardInterrupt\u001b[0m                         Traceback (most recent call last)",
            "\u001b[0;32m<ipython-input-28-3a56fb9d3b90>\u001b[0m in \u001b[0;36m<cell line: 0>\u001b[0;34m()\u001b[0m\n\u001b[0;32m----> 1\u001b[0;31m \u001b[0ma\u001b[0m \u001b[0;34m=\u001b[0m \u001b[0mfloat\u001b[0m\u001b[0;34m(\u001b[0m\u001b[0minput\u001b[0m\u001b[0;34m(\u001b[0m\u001b[0;34m\"Podaj liczbę: \"\u001b[0m\u001b[0;34m)\u001b[0m\u001b[0;34m)\u001b[0m\u001b[0;34m\u001b[0m\u001b[0;34m\u001b[0m\u001b[0m\n\u001b[0m\u001b[1;32m      2\u001b[0m \u001b[0mi\u001b[0m \u001b[0;34m=\u001b[0m \u001b[0;36m0\u001b[0m\u001b[0;34m\u001b[0m\u001b[0;34m\u001b[0m\u001b[0m\n\u001b[1;32m      3\u001b[0m \u001b[0;32mwhile\u001b[0m \u001b[0ma\u001b[0m \u001b[0;34m!=\u001b[0m \u001b[0;36m0\u001b[0m\u001b[0;34m:\u001b[0m\u001b[0;34m\u001b[0m\u001b[0;34m\u001b[0m\u001b[0m\n\u001b[1;32m      4\u001b[0m     \u001b[0mi\u001b[0m \u001b[0;34m+=\u001b[0m \u001b[0ma\u001b[0m\u001b[0;34m\u001b[0m\u001b[0;34m\u001b[0m\u001b[0m\n\u001b[1;32m      5\u001b[0m     \u001b[0ma\u001b[0m \u001b[0;34m=\u001b[0m \u001b[0mfloat\u001b[0m\u001b[0;34m(\u001b[0m\u001b[0minput\u001b[0m\u001b[0;34m(\u001b[0m\u001b[0;34m\"Podaj liczbę: \"\u001b[0m\u001b[0;34m)\u001b[0m\u001b[0;34m)\u001b[0m\u001b[0;34m\u001b[0m\u001b[0;34m\u001b[0m\u001b[0m\n",
            "\u001b[0;32m/usr/local/lib/python3.11/dist-packages/ipykernel/kernelbase.py\u001b[0m in \u001b[0;36mraw_input\u001b[0;34m(self, prompt)\u001b[0m\n\u001b[1;32m    849\u001b[0m                 \u001b[0;34m\"raw_input was called, but this frontend does not support input requests.\"\u001b[0m\u001b[0;34m\u001b[0m\u001b[0;34m\u001b[0m\u001b[0m\n\u001b[1;32m    850\u001b[0m             )\n\u001b[0;32m--> 851\u001b[0;31m         return self._input_request(str(prompt),\n\u001b[0m\u001b[1;32m    852\u001b[0m             \u001b[0mself\u001b[0m\u001b[0;34m.\u001b[0m\u001b[0m_parent_ident\u001b[0m\u001b[0;34m,\u001b[0m\u001b[0;34m\u001b[0m\u001b[0;34m\u001b[0m\u001b[0m\n\u001b[1;32m    853\u001b[0m             \u001b[0mself\u001b[0m\u001b[0;34m.\u001b[0m\u001b[0m_parent_header\u001b[0m\u001b[0;34m,\u001b[0m\u001b[0;34m\u001b[0m\u001b[0;34m\u001b[0m\u001b[0m\n",
            "\u001b[0;32m/usr/local/lib/python3.11/dist-packages/ipykernel/kernelbase.py\u001b[0m in \u001b[0;36m_input_request\u001b[0;34m(self, prompt, ident, parent, password)\u001b[0m\n\u001b[1;32m    893\u001b[0m             \u001b[0;32mexcept\u001b[0m \u001b[0mKeyboardInterrupt\u001b[0m\u001b[0;34m:\u001b[0m\u001b[0;34m\u001b[0m\u001b[0;34m\u001b[0m\u001b[0m\n\u001b[1;32m    894\u001b[0m                 \u001b[0;31m# re-raise KeyboardInterrupt, to truncate traceback\u001b[0m\u001b[0;34m\u001b[0m\u001b[0;34m\u001b[0m\u001b[0m\n\u001b[0;32m--> 895\u001b[0;31m                 \u001b[0;32mraise\u001b[0m \u001b[0mKeyboardInterrupt\u001b[0m\u001b[0;34m(\u001b[0m\u001b[0;34m\"Interrupted by user\"\u001b[0m\u001b[0;34m)\u001b[0m \u001b[0;32mfrom\u001b[0m \u001b[0;32mNone\u001b[0m\u001b[0;34m\u001b[0m\u001b[0;34m\u001b[0m\u001b[0m\n\u001b[0m\u001b[1;32m    896\u001b[0m             \u001b[0;32mexcept\u001b[0m \u001b[0mException\u001b[0m \u001b[0;32mas\u001b[0m \u001b[0me\u001b[0m\u001b[0;34m:\u001b[0m\u001b[0;34m\u001b[0m\u001b[0;34m\u001b[0m\u001b[0m\n\u001b[1;32m    897\u001b[0m                 \u001b[0mself\u001b[0m\u001b[0;34m.\u001b[0m\u001b[0mlog\u001b[0m\u001b[0;34m.\u001b[0m\u001b[0mwarning\u001b[0m\u001b[0;34m(\u001b[0m\u001b[0;34m\"Invalid Message:\"\u001b[0m\u001b[0;34m,\u001b[0m \u001b[0mexc_info\u001b[0m\u001b[0;34m=\u001b[0m\u001b[0;32mTrue\u001b[0m\u001b[0;34m)\u001b[0m\u001b[0;34m\u001b[0m\u001b[0;34m\u001b[0m\u001b[0m\n",
            "\u001b[0;31mKeyboardInterrupt\u001b[0m: Interrupted by user"
          ]
        }
      ]
    },
    {
      "cell_type": "markdown",
      "source": [
        "# ZADANIE 12"
      ],
      "metadata": {
        "id": "uGXvawkq2Ww6"
      }
    },
    {
      "cell_type": "code",
      "source": [
        "a = int(input(\"Podaj liczbę całkowitą: \"))\n",
        "lista =[]\n",
        "while a != 0:\n",
        "    lista.append(a)\n",
        "    a = int(input(\"Podaj liczbę całkowitą:\"))\n",
        "print(lista)\n",
        "print(\"Suma max i min  to: \", max(lista) + min(lista))\n",
        "print(\"Srednia to:\", (max(lista)+min(lista))/2)\n"
      ],
      "metadata": {
        "colab": {
          "base_uri": "https://localhost:8080/"
        },
        "id": "_ya2D0PF2ajt",
        "outputId": "6b044f7a-9e4c-469b-ddd4-f2ea67bba640"
      },
      "execution_count": null,
      "outputs": [
        {
          "output_type": "stream",
          "name": "stdout",
          "text": [
            "Podaj liczbę całkowitą: 1\n",
            "Podaj liczbę całkowitą:2\n",
            "Podaj liczbę całkowitą:3\n",
            "Podaj liczbę całkowitą:0\n",
            "[1, 2, 3]\n",
            "Suma max i min  to:  4\n",
            "Srednia to: 2.0\n"
          ]
        }
      ]
    },
    {
      "cell_type": "markdown",
      "source": [
        "# ZADANIE 13"
      ],
      "metadata": {
        "id": "C9phpwop6kMd"
      }
    },
    {
      "cell_type": "code",
      "source": [
        "import random\n",
        "liczba = random.randint(1,100)\n",
        "a = int(input(\"Podaj liczbę z przedziału od 1 do 100:\"))\n",
        "m=1\n",
        "\n",
        "if a < 1 or a > 100:\n",
        "    print(\"Twoja liczba nie mieści się w zakresie.\")\n",
        "else:\n",
        "    while a != liczba:\n",
        "        if a < liczba:\n",
        "            print(\"Twoja liczba jest mniejsza od szukanej.\")\n",
        "            a = int(input(\"Spróbuj ponownie. Podaj liczbę z przedziału od 1 do 100: \"))\n",
        "            m+=1\n",
        "        elif a > liczba:\n",
        "            print(\"Twoja liczba jest większa od szukanej.\")\n",
        "            a = int(input(\"Spróbuj ponownie. Podaj liczbę z przedziału od 1 do 100: \"))\n",
        "            m+=1\n",
        "    print(\"Udało Ci się! Szukana liczba to: \", liczba, \"Udało Ci się za\", m, \"razem.\")"
      ],
      "metadata": {
        "colab": {
          "base_uri": "https://localhost:8080/"
        },
        "id": "zGBz45Zc5kai",
        "outputId": "b0e976e7-0e26-459c-e67b-2d8c9a97198f"
      },
      "execution_count": null,
      "outputs": [
        {
          "output_type": "stream",
          "name": "stdout",
          "text": [
            "Podaj liczbę z przedziału od 1 do 100:50\n",
            "Twoja liczba jest większa od szukanej.\n",
            "Spróbuj ponownie. Podaj liczbę z przedziału od 1 do 100: 20\n",
            "Udało Ci się! Szukana liczba to:  20 Udało Ci się za 2 razem.\n"
          ]
        }
      ]
    },
    {
      "cell_type": "markdown",
      "source": [
        "# ZADANIE 14"
      ],
      "metadata": {
        "id": "fgUBgTWwJEOV"
      }
    },
    {
      "cell_type": "code",
      "source": [
        "a = int(input(\"Podaj liczbę całkowitą: \"))\n",
        "lista = []\n",
        "parzyste = []\n",
        "nieparzyste = []\n",
        "i = 0\n",
        "p = 0\n",
        "n = 0\n",
        "while a > 0:\n",
        "    if a % 2 == 0:\n",
        "        parzyste.append(a%10)\n",
        "        p+=(a%10)\n",
        "    elif a % 2 != 0:\n",
        "        nieparzyste.append(a%10)\n",
        "        n+=(a%10)\n",
        "    lista.append(a % 10)\n",
        "    i += (a%10)\n",
        "    a = a // 10\n",
        "\n",
        "c = len(parzyste);\n",
        "d = len(nieparzyste);\n",
        "print(lista)\n",
        "print(i)\n",
        "print(parzyste)\n",
        "print(p)\n",
        "print(nieparzyste)\n",
        "print(n)\n",
        "print(\"Stosunek średniej arytmetycznej liczb parzystych do śrdeniej arytmetycznej liczb nieparzystych to:\", (p/c)/(n/d))\n"
      ],
      "metadata": {
        "colab": {
          "base_uri": "https://localhost:8080/"
        },
        "id": "SFyPn3EdJJGS",
        "outputId": "e001d99c-d499-4a0a-c46b-e33cde2f8e2c"
      },
      "execution_count": null,
      "outputs": [
        {
          "output_type": "stream",
          "name": "stdout",
          "text": [
            "Podaj liczbę całkowitą: 12345678\n",
            "[8, 7, 6, 5, 4, 3, 2, 1]\n",
            "36\n",
            "[8, 6, 4, 2]\n",
            "20\n",
            "[7, 5, 3, 1]\n",
            "16\n",
            "Stosunek średniej arytmetycznej liczb parzystych do śrdeniej arytmetycznej liczb nieparzystych to: 1.25\n"
          ]
        }
      ]
    },
    {
      "cell_type": "markdown",
      "source": [
        "# ZADANIE 15"
      ],
      "metadata": {
        "id": "L3c_zjDENfdL"
      }
    },
    {
      "cell_type": "code",
      "source": [
        "a = int(input(\"Podaj liczbę całkowitą: \"))\n",
        "dzielniki = []\n",
        "i = 1\n",
        "while i <= a:\n",
        "    if a % i == 0:\n",
        "        dzielniki.append(i)\n",
        "        i+=1\n",
        "    else:\n",
        "         i+=1\n",
        "print(dzielniki)"
      ],
      "metadata": {
        "colab": {
          "base_uri": "https://localhost:8080/",
          "height": 356
        },
        "id": "qvz5UV70Njrr",
        "outputId": "7c3f9626-39b3-4264-e9a8-277e2c143471"
      },
      "execution_count": null,
      "outputs": [
        {
          "output_type": "error",
          "ename": "KeyboardInterrupt",
          "evalue": "Interrupted by user",
          "traceback": [
            "\u001b[0;31m---------------------------------------------------------------------------\u001b[0m",
            "\u001b[0;31mKeyboardInterrupt\u001b[0m                         Traceback (most recent call last)",
            "\u001b[0;32m<ipython-input-79-f0a083fb87dc>\u001b[0m in \u001b[0;36m<cell line: 0>\u001b[0;34m()\u001b[0m\n\u001b[0;32m----> 1\u001b[0;31m \u001b[0ma\u001b[0m \u001b[0;34m=\u001b[0m \u001b[0mint\u001b[0m\u001b[0;34m(\u001b[0m\u001b[0minput\u001b[0m\u001b[0;34m(\u001b[0m\u001b[0;34m\"Podaj liczbę całkowitą: \"\u001b[0m\u001b[0;34m)\u001b[0m\u001b[0;34m)\u001b[0m\u001b[0;34m\u001b[0m\u001b[0;34m\u001b[0m\u001b[0m\n\u001b[0m\u001b[1;32m      2\u001b[0m \u001b[0mdzielniki\u001b[0m \u001b[0;34m=\u001b[0m \u001b[0;34m[\u001b[0m\u001b[0;34m]\u001b[0m\u001b[0;34m\u001b[0m\u001b[0;34m\u001b[0m\u001b[0m\n\u001b[1;32m      3\u001b[0m \u001b[0mi\u001b[0m \u001b[0;34m=\u001b[0m \u001b[0;36m1\u001b[0m\u001b[0;34m\u001b[0m\u001b[0;34m\u001b[0m\u001b[0m\n\u001b[1;32m      4\u001b[0m \u001b[0;32mwhile\u001b[0m \u001b[0mi\u001b[0m \u001b[0;34m<=\u001b[0m \u001b[0ma\u001b[0m\u001b[0;34m:\u001b[0m\u001b[0;34m\u001b[0m\u001b[0;34m\u001b[0m\u001b[0m\n\u001b[1;32m      5\u001b[0m     \u001b[0;32mif\u001b[0m \u001b[0ma\u001b[0m \u001b[0;34m%\u001b[0m \u001b[0mi\u001b[0m \u001b[0;34m==\u001b[0m \u001b[0;36m0\u001b[0m\u001b[0;34m:\u001b[0m\u001b[0;34m\u001b[0m\u001b[0;34m\u001b[0m\u001b[0m\n",
            "\u001b[0;32m/usr/local/lib/python3.11/dist-packages/ipykernel/kernelbase.py\u001b[0m in \u001b[0;36mraw_input\u001b[0;34m(self, prompt)\u001b[0m\n\u001b[1;32m    849\u001b[0m                 \u001b[0;34m\"raw_input was called, but this frontend does not support input requests.\"\u001b[0m\u001b[0;34m\u001b[0m\u001b[0;34m\u001b[0m\u001b[0m\n\u001b[1;32m    850\u001b[0m             )\n\u001b[0;32m--> 851\u001b[0;31m         return self._input_request(str(prompt),\n\u001b[0m\u001b[1;32m    852\u001b[0m             \u001b[0mself\u001b[0m\u001b[0;34m.\u001b[0m\u001b[0m_parent_ident\u001b[0m\u001b[0;34m,\u001b[0m\u001b[0;34m\u001b[0m\u001b[0;34m\u001b[0m\u001b[0m\n\u001b[1;32m    853\u001b[0m             \u001b[0mself\u001b[0m\u001b[0;34m.\u001b[0m\u001b[0m_parent_header\u001b[0m\u001b[0;34m,\u001b[0m\u001b[0;34m\u001b[0m\u001b[0;34m\u001b[0m\u001b[0m\n",
            "\u001b[0;32m/usr/local/lib/python3.11/dist-packages/ipykernel/kernelbase.py\u001b[0m in \u001b[0;36m_input_request\u001b[0;34m(self, prompt, ident, parent, password)\u001b[0m\n\u001b[1;32m    893\u001b[0m             \u001b[0;32mexcept\u001b[0m \u001b[0mKeyboardInterrupt\u001b[0m\u001b[0;34m:\u001b[0m\u001b[0;34m\u001b[0m\u001b[0;34m\u001b[0m\u001b[0m\n\u001b[1;32m    894\u001b[0m                 \u001b[0;31m# re-raise KeyboardInterrupt, to truncate traceback\u001b[0m\u001b[0;34m\u001b[0m\u001b[0;34m\u001b[0m\u001b[0m\n\u001b[0;32m--> 895\u001b[0;31m                 \u001b[0;32mraise\u001b[0m \u001b[0mKeyboardInterrupt\u001b[0m\u001b[0;34m(\u001b[0m\u001b[0;34m\"Interrupted by user\"\u001b[0m\u001b[0;34m)\u001b[0m \u001b[0;32mfrom\u001b[0m \u001b[0;32mNone\u001b[0m\u001b[0;34m\u001b[0m\u001b[0;34m\u001b[0m\u001b[0m\n\u001b[0m\u001b[1;32m    896\u001b[0m             \u001b[0;32mexcept\u001b[0m \u001b[0mException\u001b[0m \u001b[0;32mas\u001b[0m \u001b[0me\u001b[0m\u001b[0;34m:\u001b[0m\u001b[0;34m\u001b[0m\u001b[0;34m\u001b[0m\u001b[0m\n\u001b[1;32m    897\u001b[0m                 \u001b[0mself\u001b[0m\u001b[0;34m.\u001b[0m\u001b[0mlog\u001b[0m\u001b[0;34m.\u001b[0m\u001b[0mwarning\u001b[0m\u001b[0;34m(\u001b[0m\u001b[0;34m\"Invalid Message:\"\u001b[0m\u001b[0;34m,\u001b[0m \u001b[0mexc_info\u001b[0m\u001b[0;34m=\u001b[0m\u001b[0;32mTrue\u001b[0m\u001b[0;34m)\u001b[0m\u001b[0;34m\u001b[0m\u001b[0;34m\u001b[0m\u001b[0m\n",
            "\u001b[0;31mKeyboardInterrupt\u001b[0m: Interrupted by user"
          ]
        }
      ]
    },
    {
      "cell_type": "markdown",
      "source": [
        "# ZADANIE 16"
      ],
      "metadata": {
        "id": "PR-H6EDRP7BW"
      }
    },
    {
      "cell_type": "code",
      "source": [
        "a = int(input(\"Podaj liczbę całkowitą: \"))\n",
        "dzielniki = []\n",
        "i = 1\n",
        "while i <= a:\n",
        "    if a % i == 0:\n",
        "        dzielniki.append(i)\n",
        "        i+=1\n",
        "    else:\n",
        "         i+=1\n",
        "if len(dzielniki) == 2:\n",
        "    print(\"Twoja liczba jest pierwsza.\")\n",
        "else:\n",
        "    print(\"Twoja liczba nie jest pierwsza.\")"
      ],
      "metadata": {
        "colab": {
          "base_uri": "https://localhost:8080/"
        },
        "id": "Q1DnE08UQEHE",
        "outputId": "eda2a944-5a5b-4440-9645-4783322e1198"
      },
      "execution_count": null,
      "outputs": [
        {
          "output_type": "stream",
          "name": "stdout",
          "text": [
            "Podaj liczbę całkowitą: 1\n",
            "Twoja liczba nie jest pierwsza.\n"
          ]
        }
      ]
    }
  ]
}