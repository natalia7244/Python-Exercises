{
  "nbformat": 4,
  "nbformat_minor": 0,
  "metadata": {
    "colab": {
      "provenance": [],
      "mount_file_id": "1rIiOOIRf0ankRhJ71E4kRmMEMladJaag",
      "authorship_tag": "ABX9TyPhs3OipdAYOCXZl8iqF95l",
      "include_colab_link": true
    },
    "kernelspec": {
      "name": "python3",
      "display_name": "Python 3"
    },
    "language_info": {
      "name": "python"
    }
  },
  "cells": [
    {
      "cell_type": "markdown",
      "metadata": {
        "id": "view-in-github",
        "colab_type": "text"
      },
      "source": [
        "<a href=\"https://colab.research.google.com/github/natalia7244/Python-Exercises/blob/main/16.ipynb\" target=\"_parent\"><img src=\"https://colab.research.google.com/assets/colab-badge.svg\" alt=\"Open In Colab\"/></a>"
      ]
    },
    {
      "cell_type": "markdown",
      "source": [
        "# Wprowadzenie"
      ],
      "metadata": {
        "id": "Q2NXra0DXSrV"
      }
    },
    {
      "cell_type": "markdown",
      "source": [
        "## Biblioteki (math)\n"
      ],
      "metadata": {
        "id": "dBgtHKoHXzwl"
      }
    },
    {
      "cell_type": "code",
      "source": [
        "print(\"Ala ma kota. \")"
      ],
      "metadata": {
        "colab": {
          "base_uri": "https://localhost:8080/"
        },
        "id": "cmqSDQ6eZfx-",
        "outputId": "9364a793-df84-4dbb-d6bf-b46170fbd1c5"
      },
      "execution_count": 1,
      "outputs": [
        {
          "output_type": "stream",
          "name": "stdout",
          "text": [
            "Ala ma kota. \n"
          ]
        }
      ]
    },
    {
      "cell_type": "code",
      "source": [
        "import math\n",
        "print(math.sqrt(2))\n",
        "print(math.log2(32))"
      ],
      "metadata": {
        "colab": {
          "base_uri": "https://localhost:8080/"
        },
        "id": "S0QWEX8CaE9Q",
        "outputId": "812fc9f7-e357-4f15-e35e-3ccb80e07732"
      },
      "execution_count": 2,
      "outputs": [
        {
          "output_type": "stream",
          "name": "stdout",
          "text": [
            "1.4142135623730951\n",
            "5.0\n"
          ]
        }
      ]
    },
    {
      "cell_type": "code",
      "source": [
        "from math import log\n",
        "log(1024,2)"
      ],
      "metadata": {
        "colab": {
          "base_uri": "https://localhost:8080/"
        },
        "id": "CPbWpjljZk6G",
        "outputId": "3f19cfb4-9e69-46ab-e094-de392b9afc52"
      },
      "execution_count": 3,
      "outputs": [
        {
          "output_type": "execute_result",
          "data": {
            "text/plain": [
              "10.0"
            ]
          },
          "metadata": {},
          "execution_count": 3
        }
      ]
    },
    {
      "cell_type": "code",
      "source": [
        "import math as matematyka\n",
        "print(matematyka.cos(0))"
      ],
      "metadata": {
        "colab": {
          "base_uri": "https://localhost:8080/"
        },
        "id": "pnFnj1EScN4f",
        "outputId": "06a721cf-f502-4ca5-bc14-73fba1ce880a"
      },
      "execution_count": 4,
      "outputs": [
        {
          "output_type": "stream",
          "name": "stdout",
          "text": [
            "1.0\n"
          ]
        }
      ]
    },
    {
      "cell_type": "code",
      "source": [
        "from math import  pow as potęga\n",
        "print(potęga(3,5))"
      ],
      "metadata": {
        "colab": {
          "base_uri": "https://localhost:8080/"
        },
        "id": "lU11pXsHciXb",
        "outputId": "f1a69222-b35e-4100-8120-2e71fea88279"
      },
      "execution_count": 5,
      "outputs": [
        {
          "output_type": "stream",
          "name": "stdout",
          "text": [
            "243.0\n"
          ]
        }
      ]
    },
    {
      "cell_type": "markdown",
      "source": [
        "## Komentarze"
      ],
      "metadata": {
        "id": "exkAU5vneHVa"
      }
    },
    {
      "cell_type": "code",
      "source": [
        "# komentarz 1#"
      ],
      "metadata": {
        "id": "EJdy7csReKjc"
      },
      "execution_count": 6,
      "outputs": []
    },
    {
      "cell_type": "code",
      "source": [
        "'komentarz 2'"
      ],
      "metadata": {
        "colab": {
          "base_uri": "https://localhost:8080/",
          "height": 35
        },
        "id": "82MFqpaZeST9",
        "outputId": "8b9bbb7a-a795-4d6a-cff7-834a9ffab5d1"
      },
      "execution_count": 7,
      "outputs": [
        {
          "output_type": "execute_result",
          "data": {
            "text/plain": [
              "'komentarz 2'"
            ],
            "application/vnd.google.colaboratory.intrinsic+json": {
              "type": "string"
            }
          },
          "metadata": {},
          "execution_count": 7
        }
      ]
    },
    {
      "cell_type": "markdown",
      "source": [
        "## Typy i zmienne"
      ],
      "metadata": {
        "id": "MZybILtYX2uF"
      }
    },
    {
      "cell_type": "code",
      "source": [
        "# Typy proste(wartości):\n",
        "# Liczby całkowite - int\n",
        "# Liczby rzeczywiste - float\n",
        "# Boolowskie (logiczne) - bool\n",
        "     #True i False"
      ],
      "metadata": {
        "id": "jMsGma3Tekk9"
      },
      "execution_count": 8,
      "outputs": []
    },
    {
      "cell_type": "code",
      "source": [
        "# Typy złożone (adresy):\n",
        "# str - łańcuch znaków - \"Ala\"\n",
        "# lista - l=[a,b,c,d]"
      ],
      "metadata": {
        "id": "VrinxxRxpnbE"
      },
      "execution_count": 9,
      "outputs": []
    },
    {
      "cell_type": "markdown",
      "source": [
        "=  symbol przypisania;\n",
        "==  symbol równości;"
      ],
      "metadata": {
        "id": "B_RGq4pkq8xf"
      }
    },
    {
      "cell_type": "code",
      "source": [],
      "metadata": {
        "id": "MKrxti8pq8bY"
      },
      "execution_count": 9,
      "outputs": []
    },
    {
      "cell_type": "markdown",
      "source": [
        "## Instrukcje wejścia/wyjścia"
      ],
      "metadata": {
        "id": "XZ_pjjByrhbA"
      }
    },
    {
      "cell_type": "markdown",
      "source": [
        "### Instrukcja wejścia"
      ],
      "metadata": {
        "id": "o1PircaCroQW"
      }
    },
    {
      "cell_type": "code",
      "source": [
        "zmienna = input(\"Podaj imię: \")\n",
        "wzrost = input(\"Podaj wzrost w cm: \")\n",
        "waga = float(input( \"Podaj wagę: \"))\n",
        "print(zmienna, int(wzrost)/100, waga - 1.75)"
      ],
      "metadata": {
        "id": "AsZe2HMirr7B"
      },
      "execution_count": null,
      "outputs": []
    },
    {
      "cell_type": "markdown",
      "source": [
        "### Instrukcja wyjścia"
      ],
      "metadata": {
        "id": "rx4gAWn1uroy"
      }
    },
    {
      "cell_type": "code",
      "source": [
        "wzrost = input(\"Podaj wzrost w cm: \")\n",
        "print(\"Twój wzrost to:\", wzrost,\".\")\n",
        "print(f\"Twój wzrost to: {wzrost}.\")"
      ],
      "metadata": {
        "id": "sqG73I1XuukY"
      },
      "execution_count": null,
      "outputs": []
    },
    {
      "cell_type": "markdown",
      "source": [
        "## Instrukcja warunkowa"
      ],
      "metadata": {
        "id": "wdaxA5OCYXcl"
      }
    },
    {
      "cell_type": "markdown",
      "source": [
        "### FOR"
      ],
      "metadata": {
        "id": "0BbJKOVfSRTP"
      }
    },
    {
      "cell_type": "code",
      "source": [
        "a = input(\"Wpisz dowolny tekst: \")\n",
        "for el in a:\n",
        "    print(el*2)"
      ],
      "metadata": {
        "id": "sHSNEST6SU0f"
      },
      "execution_count": null,
      "outputs": []
    },
    {
      "cell_type": "code",
      "source": [
        "lista = [\"Ala\", 12, [\"a\",2,\"c\"]]\n",
        "for el in lista:\n",
        "    el *= 2\n",
        "    print(el)\n",
        "print(lista)"
      ],
      "metadata": {
        "id": "TuiyBfuwUOwV"
      },
      "execution_count": null,
      "outputs": []
    },
    {
      "cell_type": "markdown",
      "source": [
        "#### RANGE"
      ],
      "metadata": {
        "id": "p8_U1rI_WUNq"
      }
    },
    {
      "cell_type": "code",
      "source": [
        "#range(n) -> [0, 1,.....,n-1]\n",
        "#range(a,n) -. [a, a+1,..., n-1]\n",
        "\n",
        "for i in range(5, 10,3):\n",
        "    print(i, i**3)"
      ],
      "metadata": {
        "id": "_KzX0Tc6WWqX"
      },
      "execution_count": null,
      "outputs": []
    },
    {
      "cell_type": "code",
      "source": [
        "#suma pięciu liczb\n",
        "suma = 0\n",
        "for i in range(5):\n",
        "    l = int(input(f\"Podaj liczbę: \"))\n",
        "    suma += l\n",
        "print(\"SUMA: \", suma)"
      ],
      "metadata": {
        "id": "iFHBPUDQXOWr"
      },
      "execution_count": null,
      "outputs": []
    },
    {
      "cell_type": "markdown",
      "source": [
        "### WHILE"
      ],
      "metadata": {
        "id": "B0p9KpRqPeIL"
      }
    },
    {
      "cell_type": "code",
      "source": [
        "# dopóki liczba jest mniejsza od 10, to wyświetlaj jej kwadrat\n",
        "liczba = int(input(\"Podaj liczbę: \"))\n",
        "\n",
        "while liczba<10:\n",
        "    print(liczba, liczba**2)\n",
        "    liczba += 1\n",
        "print(\"Koniec\")"
      ],
      "metadata": {
        "id": "8f4x3-m7Pj-w"
      },
      "execution_count": null,
      "outputs": []
    },
    {
      "cell_type": "code",
      "source": [
        "#Wyświetlaj kolejne potęgi 2, dopóki użytkownik nie odpowie na pytanie, że koniec\n",
        "koniec = \"Nie\"\n",
        "p=0N\n",
        "\n",
        "while koniec !=  \"T\":\n",
        "    print(2**p)\n",
        "    p+=1\n",
        "\n",
        "    koniec = input(\"Zakończyć? T/N\")\n",
        "print(\"Już.\")"
      ],
      "metadata": {
        "id": "5y-scFmyQmNl"
      },
      "execution_count": null,
      "outputs": []
    },
    {
      "cell_type": "markdown",
      "source": [
        "### If\n"
      ],
      "metadata": {
        "id": "7Dr2U3KVxbub"
      }
    },
    {
      "cell_type": "code",
      "source": [
        "a = 66\n",
        "moja = float(input(\"Podaj dowolną liczbę: \"))\n",
        "if a>moja:\n",
        "    print(\"Dzielenie ...\")\n",
        "    moja /= 2 #moja = moja/2\n",
        "print(a,moja)"
      ],
      "metadata": {
        "id": "kwULb3xaxgDp"
      },
      "execution_count": null,
      "outputs": []
    },
    {
      "cell_type": "code",
      "source": [
        "# elif - w przeciwnym wypadku, jeśli ...\n",
        "a = 66\n",
        "moja = float(input(\"Podaj dowolną liczbę: \"))\n",
        "if a>moja:\n",
        "    print(\"Dzielenie ...\")\n",
        "    moja /= 2 #moja = moja/2\n",
        "elif a<moja:\n",
        "    print(\"Mnożenie...\")\n",
        "    moja *= 2\n",
        "print(a,moja)"
      ],
      "metadata": {
        "id": "8vDXZCLRNTmc"
      },
      "execution_count": null,
      "outputs": []
    },
    {
      "cell_type": "markdown",
      "source": [
        "## Operatory"
      ],
      "metadata": {
        "id": "WmCRbsRAx0qB"
      }
    },
    {
      "cell_type": "markdown",
      "source": [
        "### = to operator przypisania np. a=5;\\\n",
        "+, -, * suma, różnica, mnożenie;\\\n",
        "/ dzielenie rzeczywistoliczbowe\\\n",
        "// dzielenie całkowitoliczbowe\\\n",
        "% dzieloenie modulo (reszta z dzielenia)\\\n",
        "** potęgowanie\n",
        "# **Skrót: a =+ b **\n",
        "_>, <, >=, <= \\\n",
        "!= różny \\\n",
        "== równy\n",
        "# **Operatory porównania zawszed zwracają True lub False. **\n",
        "or, and, not  - operatory logiczne\n"
      ],
      "metadata": {
        "id": "9FD4hiuLx8ap"
      }
    },
    {
      "cell_type": "markdown",
      "source": [
        "# Wprowadzenie 2"
      ],
      "metadata": {
        "id": "A7CVlIZLpXcr"
      }
    },
    {
      "cell_type": "markdown",
      "source": [
        "Typ prosty (int, float)- myśli o wartościahch\n",
        "\n",
        "Typ złożony (lista, funckja) - myśli o adresach"
      ],
      "metadata": {
        "id": "RH1XgYvct0fr"
      }
    },
    {
      "cell_type": "markdown",
      "source": [
        "## Listy"
      ],
      "metadata": {
        "id": "Dczjne3wr1a4"
      }
    },
    {
      "cell_type": "code",
      "source": [
        "lista = []\n",
        "lista.append(1)\n",
        "lista.append(5)\n",
        "c = len(lista)\n",
        "lista2 = [1,3,\"n\"]\n",
        "print(lista)\n",
        "print(sum(lista))\n",
        "print(max(lista))\n",
        "print(min(lista))\n",
        "print(c)"
      ],
      "metadata": {
        "colab": {
          "base_uri": "https://localhost:8080/"
        },
        "id": "ugR6TON7sM52",
        "outputId": "45655c5c-3d6c-42be-9e96-315c5c7b196a"
      },
      "execution_count": null,
      "outputs": [
        {
          "output_type": "stream",
          "name": "stdout",
          "text": [
            "[1, 5]\n",
            "6\n",
            "5\n",
            "1\n",
            "2\n"
          ]
        }
      ]
    },
    {
      "cell_type": "code",
      "source": [
        "#Metody\n",
        "lista = [3,5,7,12,7,87,90]\n",
        "lista.append(7) #Nowy element na koncu\n",
        "print(lista.index(7))\n",
        "lista.insert(2,51)   #Dodaje elenet w dowolnym miejscu listy\n",
        "print(lista)\n",
        "lista.reverse()\n",
        "print(lista)\n",
        "x = 7\n",
        "while x in lista:\n",
        "    lista.remove(x)\n",
        "print(lista)"
      ],
      "metadata": {
        "colab": {
          "base_uri": "https://localhost:8080/"
        },
        "id": "fKr4zND7uzYO",
        "outputId": "29d3c959-bac3-4a14-d623-c3f7d8831913"
      },
      "execution_count": null,
      "outputs": [
        {
          "output_type": "stream",
          "name": "stdout",
          "text": [
            "2\n",
            "[3, 5, 51, 7, 12, 7, 87, 90, 7]\n",
            "[7, 90, 87, 7, 12, 7, 51, 5, 3]\n",
            "[90, 87, 12, 51, 5, 3]\n"
          ]
        }
      ]
    },
    {
      "cell_type": "code",
      "source": [
        "#Działania\n",
        "l = [1,2,4]\n",
        "l2 = [1,7,8]\n",
        "l3 = [3,4,5,8]\n",
        "l4 = l + l2\n",
        "l5 = 2*l3\n",
        "print(l4)\n",
        "print(l5)\n",
        "#Mnożymy każdy element listy:\n",
        "l0 = []\n",
        "for el in l:\n",
        "    el =el*2\n",
        "    l0.append(el)\n",
        "print(\"\\t\",l0)"
      ],
      "metadata": {
        "colab": {
          "base_uri": "https://localhost:8080/"
        },
        "id": "W39Ygn6I0XhS",
        "outputId": "46219438-98f5-4c26-af0c-7655aa124bf4"
      },
      "execution_count": null,
      "outputs": [
        {
          "output_type": "stream",
          "name": "stdout",
          "text": [
            "[1, 2, 4, 1, 7, 8]\n",
            "[3, 4, 5, 8, 3, 4, 5, 8]\n",
            "\t [2, 4, 8]\n"
          ]
        }
      ]
    },
    {
      "cell_type": "code",
      "source": [
        "l = [1,4,6,2]\n",
        "l2= [3,1,4,56]\n",
        "l3= l # l3 = l.copy()\n",
        "\n",
        "l3.append(\"Ala\")\n",
        "l3 = l2\n",
        "l2.append(\"kot\")\n",
        "\n",
        "print(l)\n",
        "print(l2)\n",
        "print(l3)\n",
        "a = l[3]\n",
        "print(a)\n",
        "b = l[0:3]  #od indeksu 0 do indeksu 2\n",
        "print(b)\n",
        "c = l[:] #kopia listy\n",
        "print(c)"
      ],
      "metadata": {
        "colab": {
          "base_uri": "https://localhost:8080/"
        },
        "id": "Ic7cQ1iu3b0x",
        "outputId": "e478016e-401c-479c-cd1f-04b9978aaa18"
      },
      "execution_count": null,
      "outputs": [
        {
          "output_type": "stream",
          "name": "stdout",
          "text": [
            "[1, 4, 6, 2, 'Ala']\n",
            "[3, 1, 4, 56, 'kot']\n",
            "[3, 1, 4, 56, 'kot']\n",
            "2\n",
            "[1, 4, 6]\n",
            "[1, 4, 6, 2, 'Ala']\n"
          ]
        }
      ]
    },
    {
      "cell_type": "code",
      "source": [
        "l = []\n",
        "l1 = [0 for _ in range(10)]\n",
        "print(l1)"
      ],
      "metadata": {
        "colab": {
          "base_uri": "https://localhost:8080/"
        },
        "id": "bXSGpxR77NXH",
        "outputId": "226eb6d0-9c92-4290-d837-927edc04506d"
      },
      "execution_count": null,
      "outputs": [
        {
          "output_type": "stream",
          "name": "stdout",
          "text": [
            "[0, 0, 0, 0, 0, 0, 0, 0, 0, 0]\n"
          ]
        }
      ]
    },
    {
      "cell_type": "markdown",
      "source": [
        "## Krotki"
      ],
      "metadata": {
        "id": "zrx0Dp1iFExK"
      }
    },
    {
      "cell_type": "code",
      "source": [
        "k = (34,7, \"Natka\")\n",
        "print(k[-1]) #[-1] zwraca ostatni element listy\n"
      ],
      "metadata": {
        "colab": {
          "base_uri": "https://localhost:8080/"
        },
        "id": "aaChfT4JFK80",
        "outputId": "3fc982b0-2f5f-4c53-f21e-ab5a1918fc5a"
      },
      "execution_count": null,
      "outputs": [
        {
          "output_type": "stream",
          "name": "stdout",
          "text": [
            "Natka\n"
          ]
        }
      ]
    },
    {
      "cell_type": "markdown",
      "source": [
        "Krotka to niezmienna lista, tylko 2 metody"
      ],
      "metadata": {
        "id": "kHrmYYAfFWI-"
      }
    },
    {
      "cell_type": "markdown",
      "source": [
        "## Słowniki"
      ],
      "metadata": {
        "id": "ezvGHvjuGFwD"
      }
    },
    {
      "cell_type": "code",
      "source": [
        "s = {1:\"jeden\", 2:\"dwa\", 3:\"trzy\"}\n",
        "print(s)\n",
        "for klucz in s:\n",
        "    print(klucz, s[klucz])"
      ],
      "metadata": {
        "colab": {
          "base_uri": "https://localhost:8080/"
        },
        "id": "WHvkhQNTGKBi",
        "outputId": "2c14f917-bf9a-4cc9-c205-06eac04973ee"
      },
      "execution_count": null,
      "outputs": [
        {
          "output_type": "stream",
          "name": "stdout",
          "text": [
            "{1: 'jeden', 2: 'dwa', 3: 'trzy'}\n",
            "1 jeden\n",
            "2 dwa\n",
            "3 trzy\n"
          ]
        }
      ]
    },
    {
      "cell_type": "code",
      "source": [
        "# Metody\n",
        "s = {1:\"jeden\", 2:\"dwa\", 3:\"trzy\"}\n",
        "#s.items\n",
        "\n"
      ],
      "metadata": {
        "id": "7npnihCVIqzn"
      },
      "execution_count": null,
      "outputs": []
    },
    {
      "cell_type": "markdown",
      "source": [
        "## Funkcje"
      ],
      "metadata": {
        "id": "nh6prIqsPHY5"
      }
    },
    {
      "cell_type": "code",
      "source": [
        "#Funkcja, ktora liczy srednia arytmetyczna liczb\n",
        "def avg(numbers):\n",
        "    return sum(numbers) / len(numbers)\n",
        "l=[12,23,24,25]\n",
        "print(avg(l))\n"
      ],
      "metadata": {
        "colab": {
          "base_uri": "https://localhost:8080/"
        },
        "id": "7ZvUWKVwPLhF",
        "outputId": "5d983c65-1794-40fc-af72-1fdff1d4434a"
      },
      "execution_count": null,
      "outputs": [
        {
          "output_type": "stream",
          "name": "stdout",
          "text": [
            "21.0\n"
          ]
        }
      ]
    },
    {
      "cell_type": "code",
      "source": [
        "#Funkcja, ktora liczy medianę z listy\n",
        "def med(numbers):\n",
        "    numbers.sort()\n",
        "    if len(numbers)%2==0:\n",
        "        i = len(numbers)//2\n",
        "        return(numbers[i]+numbers[i-1]/2)\n",
        "    else:\n",
        "        return numbers[len(numbers)//2]\n",
        "l =[1,2,3]\n",
        "print(med(l))"
      ],
      "metadata": {
        "colab": {
          "base_uri": "https://localhost:8080/"
        },
        "id": "kOmXJPq1QFHb",
        "outputId": "400ca608-5d6f-4d5b-f7d7-260ea93acbc9"
      },
      "execution_count": null,
      "outputs": [
        {
          "output_type": "stream",
          "name": "stdout",
          "text": [
            "2\n"
          ]
        }
      ]
    },
    {
      "cell_type": "markdown",
      "source": [
        "## Pliki"
      ],
      "metadata": {
        "id": "-rWtsGjLdccw"
      }
    },
    {
      "cell_type": "code",
      "source": [
        "import os\n",
        "os.listdir()\n",
        "print(os.path.isdir(\"test\"))\n",
        "#os.path.isfile()\n",
        "#os.path.sep()"
      ],
      "metadata": {
        "colab": {
          "base_uri": "https://localhost:8080/"
        },
        "id": "A5qFiMIieAb5",
        "outputId": "1a95da5e-bc3e-4eba-f2b1-9ef339b67f83"
      },
      "execution_count": null,
      "outputs": [
        {
          "output_type": "stream",
          "name": "stdout",
          "text": [
            "False\n"
          ]
        }
      ]
    },
    {
      "cell_type": "markdown",
      "source": [
        "# Przykład 1"
      ],
      "metadata": {
        "id": "jgKgtTcVnQnR"
      }
    },
    {
      "cell_type": "code",
      "source": [
        "#Policzyc liczbe wystapien kazdego znaku.\n",
        "#Wyswietlic liczby wystapien od najmniejszej do najwiekszej.\n",
        "\n",
        "def count_chars(path):\n",
        "    counter ={}\n",
        "    file_in = open(path)\n",
        "    char = file_inread(1)\n",
        "\n",
        "    while char:\n",
        "        counter[char] = counter.get(char,0)+1\n",
        "        char = file_in.read(1)\n",
        "    file_in.close()"
      ],
      "metadata": {
        "id": "uoR_jfIynVaK"
      },
      "execution_count": null,
      "outputs": []
    },
    {
      "cell_type": "code",
      "source": [
        "import os\n",
        "def confusion_matrix(path):\n",
        "    for file_name in os.listdir(path):\n",
        "    file_name = os.pah.join.(path, file_name)\n",
        "    print(file_name)\n"
      ],
      "metadata": {
        "id": "JyqSPGVbyptk"
      },
      "execution_count": null,
      "outputs": []
    }
  ]
}