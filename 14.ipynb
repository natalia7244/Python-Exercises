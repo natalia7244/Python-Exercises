{
  "nbformat": 4,
  "nbformat_minor": 0,
  "metadata": {
    "colab": {
      "provenance": [],
      "collapsed_sections": [
        "tf-2I5RtwZVT",
        "Wh2Cyn6t5IYC",
        "c92j-VJR7rZZ",
        "lNpEMSV_xbEo",
        "TOJsV4eW06Qh",
        "kL4iycyC4MYh",
        "mssE9CeP5_tp",
        "L6X2GjIt8aWz",
        "4vnyxu3y9si4",
        "fBV0l7X9-g1X",
        "mGVvQ4k0EfZY",
        "JX6VgWxsJi5-",
        "9UvB3fwxLpYj",
        "KW-WVs6sMWcm"
      ],
      "mount_file_id": "1P1gn_gPSeQcNmI3tG0GFtZ4LETq-Njsw",
      "authorship_tag": "ABX9TyOv1j4JLFof8s3f0qP8YjNN",
      "include_colab_link": true
    },
    "kernelspec": {
      "name": "python3",
      "display_name": "Python 3"
    },
    "language_info": {
      "name": "python"
    }
  },
  "cells": [
    {
      "cell_type": "markdown",
      "metadata": {
        "id": "view-in-github",
        "colab_type": "text"
      },
      "source": [
        "<a href=\"https://colab.research.google.com/github/natalia7244/Python-Exercises/blob/main/14.ipynb\" target=\"_parent\"><img src=\"https://colab.research.google.com/assets/colab-badge.svg\" alt=\"Open In Colab\"/></a>"
      ]
    },
    {
      "cell_type": "markdown",
      "source": [
        "# Ćwiczenia"
      ],
      "metadata": {
        "id": "mmKDxDDzwPP5"
      }
    },
    {
      "cell_type": "markdown",
      "source": [
        "## Podłączenie dysku Google i wczytanie danych\n",
        "\n"
      ],
      "metadata": {
        "id": "tf-2I5RtwZVT"
      }
    },
    {
      "cell_type": "code",
      "source": [
        "import pandas\n",
        "from google.colab import drive\n",
        "drive.mount('/content/drive')\n"
      ],
      "metadata": {
        "colab": {
          "base_uri": "https://localhost:8080/"
        },
        "id": "eiumNVyfwqCB",
        "outputId": "c2d5005c-f9e5-472a-ddc8-6225096e2f87"
      },
      "execution_count": null,
      "outputs": [
        {
          "output_type": "stream",
          "name": "stdout",
          "text": [
            "Drive already mounted at /content/drive; to attempt to forcibly remount, call drive.mount(\"/content/drive\", force_remount=True).\n"
          ]
        }
      ]
    },
    {
      "cell_type": "code",
      "source": [
        "plik_path = '/content/drive/MyDrive/Kopia NZDUSD_H4.csv' #Wczytanie pliku\n",
        "dane = pandas.read_csv(plik_path)\n",
        "zbior = pandas.DataFrame(dane)\n",
        "zbior2 = zbior.head(2500)\n",
        "print(zbior2)   #Wyswietlenie  2500 obiektow z pliku"
      ],
      "metadata": {
        "colab": {
          "base_uri": "https://localhost:8080/"
        },
        "id": "mI8lIs8R3J1S",
        "outputId": "b5060ccb-def1-48d5-9abe-7e36fee90a30"
      },
      "execution_count": null,
      "outputs": [
        {
          "output_type": "stream",
          "name": "stdout",
          "text": [
            "        Close    SMA14    SMA50  SMA14IND  SMA50IND    Bulls    CCI   DM  \\\n",
            "0     0.72050  0.72050  0.72050   0.00000   0.00000  0.00000   0.00  0.0   \n",
            "1     0.72050  0.72050  0.72050   0.00000   0.00000  0.00000   0.00  0.0   \n",
            "2     0.72050  0.72050  0.72050   0.00000   0.00000  0.00000   0.00  0.0   \n",
            "3     0.72050  0.72050  0.72050   0.00000   0.00000  0.00000   0.00  0.0   \n",
            "4     0.72050  0.72050  0.72050   0.00000   0.00000  0.00000   0.00  0.0   \n",
            "...       ...      ...      ...       ...       ...      ...    ...  ...   \n",
            "2495  0.83869  0.84596  0.86475  -0.00166  -0.00053 -0.00396 -20.05  0.0   \n",
            "2496  0.82671  0.84416  0.86410  -0.00181  -0.00066 -0.00024 -99.95  0.0   \n",
            "2497  0.82867  0.84147  0.86319  -0.00268  -0.00090 -0.00330  40.00  0.0   \n",
            "2498  0.82929  0.83950  0.86232  -0.00197  -0.00087  0.00050  20.00  0.0   \n",
            "2499  0.82980  0.83804  0.86139  -0.00146  -0.00093  0.00281  20.00  0.0   \n",
            "\n",
            "        OSMA  RSI  Stoch    Decision  \n",
            "0     0.0000    0      0        WAIT  \n",
            "1     0.0000    0      0        WAIT  \n",
            "2     0.0000    0      0        WAIT  \n",
            "3     0.0000    0      0         BUY  \n",
            "4     0.0000    0      0   STRONGBUY  \n",
            "...      ...  ...    ...         ...  \n",
            "2495  0.0005    0      0  STRONGSELL  \n",
            "2496 -0.0005  -10    -40   STRONGBUY  \n",
            "2497  0.0000   10    -20  STRONGSELL  \n",
            "2498  0.0000    0      0  STRONGSELL  \n",
            "2499  0.0000    0     10  STRONGSELL  \n",
            "\n",
            "[2500 rows x 12 columns]\n"
          ]
        }
      ]
    },
    {
      "cell_type": "markdown",
      "source": [
        "## Usuniecie kolumn"
      ],
      "metadata": {
        "id": "Wh2Cyn6t5IYC"
      }
    },
    {
      "cell_type": "code",
      "source": [
        "zbior2.drop('SMA14IND', axis = 1, inplace = True) #Usuwam kolumne\n",
        "zbior2.drop('SMA50IND', axis = 1, inplace = True) #usuwam kolumne\n",
        "print(zbior2) #Sprawdzam czy kolumn y zostały usunięte"
      ],
      "metadata": {
        "id": "uh6tUZy25UAp",
        "colab": {
          "base_uri": "https://localhost:8080/"
        },
        "outputId": "9cfd350d-afbd-458d-dd5b-61863284e9ca"
      },
      "execution_count": null,
      "outputs": [
        {
          "output_type": "stream",
          "name": "stdout",
          "text": [
            "        Close    SMA14    SMA50    Bulls    CCI   DM    OSMA  RSI  Stoch  \\\n",
            "0     0.72050  0.72050  0.72050  0.00000   0.00  0.0  0.0000    0      0   \n",
            "1     0.72050  0.72050  0.72050  0.00000   0.00  0.0  0.0000    0      0   \n",
            "2     0.72050  0.72050  0.72050  0.00000   0.00  0.0  0.0000    0      0   \n",
            "3     0.72050  0.72050  0.72050  0.00000   0.00  0.0  0.0000    0      0   \n",
            "4     0.72050  0.72050  0.72050  0.00000   0.00  0.0  0.0000    0      0   \n",
            "...       ...      ...      ...      ...    ...  ...     ...  ...    ...   \n",
            "2495  0.83869  0.84596  0.86475 -0.00396 -20.05  0.0  0.0005    0      0   \n",
            "2496  0.82671  0.84416  0.86410 -0.00024 -99.95  0.0 -0.0005  -10    -40   \n",
            "2497  0.82867  0.84147  0.86319 -0.00330  40.00  0.0  0.0000   10    -20   \n",
            "2498  0.82929  0.83950  0.86232  0.00050  20.00  0.0  0.0000    0      0   \n",
            "2499  0.82980  0.83804  0.86139  0.00281  20.00  0.0  0.0000    0     10   \n",
            "\n",
            "        Decision  \n",
            "0           WAIT  \n",
            "1           WAIT  \n",
            "2           WAIT  \n",
            "3            BUY  \n",
            "4      STRONGBUY  \n",
            "...          ...  \n",
            "2495  STRONGSELL  \n",
            "2496   STRONGBUY  \n",
            "2497  STRONGSELL  \n",
            "2498  STRONGSELL  \n",
            "2499  STRONGSELL  \n",
            "\n",
            "[2500 rows x 10 columns]\n"
          ]
        },
        {
          "output_type": "stream",
          "name": "stderr",
          "text": [
            "<ipython-input-57-2c9436f954d5>:1: SettingWithCopyWarning: \n",
            "A value is trying to be set on a copy of a slice from a DataFrame\n",
            "\n",
            "See the caveats in the documentation: https://pandas.pydata.org/pandas-docs/stable/user_guide/indexing.html#returning-a-view-versus-a-copy\n",
            "  zbior2.drop('SMA14IND', axis = 1, inplace = True) #Usuwam kolumne\n",
            "<ipython-input-57-2c9436f954d5>:2: SettingWithCopyWarning: \n",
            "A value is trying to be set on a copy of a slice from a DataFrame\n",
            "\n",
            "See the caveats in the documentation: https://pandas.pydata.org/pandas-docs/stable/user_guide/indexing.html#returning-a-view-versus-a-copy\n",
            "  zbior2.drop('SMA50IND', axis = 1, inplace = True) #usuwam kolumne\n"
          ]
        }
      ]
    },
    {
      "cell_type": "markdown",
      "source": [
        "##Liczba wystapien pustych i ich usrednienie"
      ],
      "metadata": {
        "id": "c92j-VJR7rZZ"
      }
    },
    {
      "cell_type": "code",
      "source": [
        "import numpy\n",
        "zbior3 = zbior2.copy() #Tworze kopie, aby uniknac bledu\n",
        "print(\"Pol z wartościami jest : \", zbior3['Close'].count())\n",
        "#numpy.isnan(zbior3['Close']) #Sprawdzenie, gdzie są brakujace wartości\n",
        "suma = numpy.isnan(zbior3['Close']).sum()\n",
        "print(\"Suma brakujacych wartości to: \", suma)\n",
        "zbior3['Close'] = zbior3['Close'].interpolate() #Usredniam wartosci\n",
        "print(zbior3)\n",
        "print(\"Suma pol z wartościami po usrednieniu: \", zbior3['Close'].count())"
      ],
      "metadata": {
        "colab": {
          "base_uri": "https://localhost:8080/"
        },
        "id": "u88TahWl70wl",
        "outputId": "36ab04a7-b55b-4183-9666-4ae778628727"
      },
      "execution_count": null,
      "outputs": [
        {
          "output_type": "stream",
          "name": "stdout",
          "text": [
            "Pol z wartościami jest :  2460\n",
            "Suma brakujacych wartości to:  40\n",
            "        Close    SMA14    SMA50    Bulls    CCI   DM    OSMA  RSI  Stoch  \\\n",
            "0     0.72050  0.72050  0.72050  0.00000   0.00  0.0  0.0000    0      0   \n",
            "1     0.72050  0.72050  0.72050  0.00000   0.00  0.0  0.0000    0      0   \n",
            "2     0.72050  0.72050  0.72050  0.00000   0.00  0.0  0.0000    0      0   \n",
            "3     0.72050  0.72050  0.72050  0.00000   0.00  0.0  0.0000    0      0   \n",
            "4     0.72050  0.72050  0.72050  0.00000   0.00  0.0  0.0000    0      0   \n",
            "...       ...      ...      ...      ...    ...  ...     ...  ...    ...   \n",
            "2495  0.83869  0.84596  0.86475 -0.00396 -20.05  0.0  0.0005    0      0   \n",
            "2496  0.82671  0.84416  0.86410 -0.00024 -99.95  0.0 -0.0005  -10    -40   \n",
            "2497  0.82867  0.84147  0.86319 -0.00330  40.00  0.0  0.0000   10    -20   \n",
            "2498  0.82929  0.83950  0.86232  0.00050  20.00  0.0  0.0000    0      0   \n",
            "2499  0.82980  0.83804  0.86139  0.00281  20.00  0.0  0.0000    0     10   \n",
            "\n",
            "        Decision  \n",
            "0           WAIT  \n",
            "1           WAIT  \n",
            "2           WAIT  \n",
            "3            BUY  \n",
            "4      STRONGBUY  \n",
            "...          ...  \n",
            "2495  STRONGSELL  \n",
            "2496   STRONGBUY  \n",
            "2497  STRONGSELL  \n",
            "2498  STRONGSELL  \n",
            "2499  STRONGSELL  \n",
            "\n",
            "[2500 rows x 10 columns]\n",
            "Suma pol z wartościami po usrednieniu:  2500\n"
          ]
        }
      ]
    },
    {
      "cell_type": "markdown",
      "source": [
        "## Naprawa kolumn SMA14 i SMA50"
      ],
      "metadata": {
        "id": "lNpEMSV_xbEo"
      }
    },
    {
      "cell_type": "code",
      "source": [
        "zbior4 = zbior3.copy()  #Tworzę kopię, aby uniknac bledow\n",
        "# Kolumna SMA14\n",
        "print(\"Pol z wartościami jest : \", zbior4['SMA14'].count())\n",
        "suma = numpy.isnan(zbior4['SMA14']).sum()\n",
        "print(\"Suma brakujacych wartości to: \", suma)\n",
        "zbior4['SMA14'] = zbior4['SMA14'].interpolate() #Usredniam wartosci\n",
        "print(\"Suma pol z wartościami po usrednieniu: \", zbior4['SMA14'].count())\n",
        "\n",
        "# Kolumna SMA50\n",
        "print(\"Pol z wartościami jest : \", zbior4['SMA50'].count())\n",
        "suma = numpy.isnan(zbior4['SMA50']).sum()\n",
        "print(\"Suma brakujacych wartości to: \", suma)\n",
        "zbior4['SMA50'] = zbior4['SMA50'].interpolate() #Usredniam wartosci\n",
        "print(\"Suma pol z wartościami po usrednieniu: \", zbior4['SMA50'].count())\n"
      ],
      "metadata": {
        "colab": {
          "base_uri": "https://localhost:8080/"
        },
        "id": "5tV4Y3DSxnd6",
        "outputId": "da9b221e-1655-4a99-f222-eb59a728786e"
      },
      "execution_count": null,
      "outputs": [
        {
          "output_type": "stream",
          "name": "stdout",
          "text": [
            "Pol z wartościami jest :  2495\n",
            "Suma brakujacych wartości to:  5\n",
            "Suma pol z wartościami po usrednieniu:  2500\n",
            "Pol z wartościami jest :  2493\n",
            "Suma brakujacych wartości to:  7\n",
            "Suma pol z wartościami po usrednieniu:  2500\n"
          ]
        }
      ]
    },
    {
      "cell_type": "markdown",
      "source": [
        "## Wypelnienie pozostalych atrybutow zerami"
      ],
      "metadata": {
        "id": "TOJsV4eW06Qh"
      }
    },
    {
      "cell_type": "code",
      "source": [
        "zbior5 = zbior4.copy()\n",
        "print(\"Pol z wartościami jest : \", zbior5.count()) #Sprawdzam, gdzie prakuje wartosci\n",
        "zbior5['Bulls'] = zbior5['Bulls'].fillna(0) #nadpisuje zerami\n",
        "print(\"Suma pol wypelnionych po uzupelnieu zerami: \", zbior5.count()) # Sprawdzam"
      ],
      "metadata": {
        "colab": {
          "base_uri": "https://localhost:8080/"
        },
        "id": "5ox5XU4d1KDL",
        "outputId": "2c556f43-a016-4414-e9fd-71e7b572e2fd"
      },
      "execution_count": null,
      "outputs": [
        {
          "output_type": "stream",
          "name": "stdout",
          "text": [
            "Pol z wartościami jest :  Close       2500\n",
            "SMA14       2500\n",
            "SMA50       2500\n",
            "Bulls       2421\n",
            "CCI         2500\n",
            "DM          2500\n",
            "OSMA        2500\n",
            "RSI         2500\n",
            "Stoch       2500\n",
            "Decision    2500\n",
            "dtype: int64\n",
            "Suma pol wypelnionych po uzupelnieu zerami:  Close       2500\n",
            "SMA14       2500\n",
            "SMA50       2500\n",
            "Bulls       2500\n",
            "CCI         2500\n",
            "DM          2500\n",
            "OSMA        2500\n",
            "RSI         2500\n",
            "Stoch       2500\n",
            "Decision    2500\n",
            "dtype: int64\n"
          ]
        }
      ]
    },
    {
      "cell_type": "markdown",
      "source": [
        "## Sprawdzenie korelacji SMA14 i SMA50"
      ],
      "metadata": {
        "id": "kL4iycyC4MYh"
      }
    },
    {
      "cell_type": "code",
      "source": [
        "zbior6 = zbior5.copy()\n",
        "korelacja = zbior6['SMA14'].corr(zbior6['SMA50'])\n",
        "print(\"Korelacja miedzy SMA14 i SMA50 to: \", korelacja)"
      ],
      "metadata": {
        "colab": {
          "base_uri": "https://localhost:8080/"
        },
        "id": "9Sod_rmG4VqL",
        "outputId": "ab6b06e2-5820-4e09-9489-c1aeedc68dbe"
      },
      "execution_count": null,
      "outputs": [
        {
          "output_type": "stream",
          "name": "stdout",
          "text": [
            "Korelacja miedzy SMA14 i SMA50 to:  0.9873584600019915\n"
          ]
        }
      ]
    },
    {
      "cell_type": "markdown",
      "source": [
        "## Sprawdzenie korelacji Close-SMA14 i Close-SMA50"
      ],
      "metadata": {
        "id": "mssE9CeP5_tp"
      }
    },
    {
      "cell_type": "code",
      "source": [
        "korelacja2 = zbior6['Close'].corr(zbior6['SMA14'])\n",
        "print(\"Korelacja między Close i SMA14 to: \", korelacja2)\n",
        "korelacja3 = zbior6['Close'].corr(zbior6['SMA50'])\n",
        "print(\"Korelacja miedzy Close i SMA50 to: \", korelacja3)\n",
        "print(\"Korelacja miedzy Close i SMA14 jest wieksza, wiec usuwam kolumne SMA14.\")\n",
        "zbior6.drop('SMA14', axis = 1, inplace = True) #usuwam kolumne SMA14\n",
        "print(zbior6)"
      ],
      "metadata": {
        "colab": {
          "base_uri": "https://localhost:8080/"
        },
        "id": "F8PRnFJ66W90",
        "outputId": "3743f3ee-bdda-4289-c3e6-2d4444d20e77"
      },
      "execution_count": null,
      "outputs": [
        {
          "output_type": "stream",
          "name": "stdout",
          "text": [
            "Korelacja między Close i SMA14 to:  0.9918326115567875\n",
            "Korelacja miedzy Close i SMA50 to:  0.9742577659165291\n",
            "Korelacja miedzy Close i SMA14 jest wieksza, wiec usuwam kolumne SMA14.\n",
            "        Close    SMA50    Bulls    CCI   DM    OSMA  RSI  Stoch    Decision\n",
            "0     0.72050  0.72050  0.00000   0.00  0.0  0.0000    0      0        WAIT\n",
            "1     0.72050  0.72050  0.00000   0.00  0.0  0.0000    0      0        WAIT\n",
            "2     0.72050  0.72050  0.00000   0.00  0.0  0.0000    0      0        WAIT\n",
            "3     0.72050  0.72050  0.00000   0.00  0.0  0.0000    0      0         BUY\n",
            "4     0.72050  0.72050  0.00000   0.00  0.0  0.0000    0      0   STRONGBUY\n",
            "...       ...      ...      ...    ...  ...     ...  ...    ...         ...\n",
            "2495  0.83869  0.86475 -0.00396 -20.05  0.0  0.0005    0      0  STRONGSELL\n",
            "2496  0.82671  0.86410 -0.00024 -99.95  0.0 -0.0005  -10    -40   STRONGBUY\n",
            "2497  0.82867  0.86319 -0.00330  40.00  0.0  0.0000   10    -20  STRONGSELL\n",
            "2498  0.82929  0.86232  0.00050  20.00  0.0  0.0000    0      0  STRONGSELL\n",
            "2499  0.82980  0.86139  0.00281  20.00  0.0  0.0000    0     10  STRONGSELL\n",
            "\n",
            "[2500 rows x 9 columns]\n"
          ]
        }
      ]
    },
    {
      "cell_type": "markdown",
      "source": [
        "##Liczba argumentow ujemnych  dla CCI"
      ],
      "metadata": {
        "id": "L6X2GjIt8aWz"
      }
    },
    {
      "cell_type": "code",
      "source": [
        "seria = zbior5['CCI']\n",
        "seria_ujemne = seria.lt(0)\n",
        "print(seria_ujemne.sum())"
      ],
      "metadata": {
        "colab": {
          "base_uri": "https://localhost:8080/"
        },
        "id": "vyzW1pUK8tTQ",
        "outputId": "e703030c-4dc5-42ff-b63d-485e91ccc3f3"
      },
      "execution_count": null,
      "outputs": [
        {
          "output_type": "stream",
          "name": "stdout",
          "text": [
            "1037\n"
          ]
        }
      ]
    },
    {
      "cell_type": "markdown",
      "source": [
        "## MIN i MAX"
      ],
      "metadata": {
        "id": "4vnyxu3y9si4"
      }
    },
    {
      "cell_type": "code",
      "source": [
        "print(\"Maksymalne wartosci to: \", zbior6.max())\n",
        "print(\"Minimalne wartosci to: \", zbior6.min())"
      ],
      "metadata": {
        "colab": {
          "base_uri": "https://localhost:8080/"
        },
        "id": "4a3aEndN9zlS",
        "outputId": "ba88fb22-076e-4ddd-ecdf-314211ee3a7c"
      },
      "execution_count": null,
      "outputs": [
        {
          "output_type": "stream",
          "name": "stdout",
          "text": [
            "Maksymalne wartosci to:  Close       0.88291\n",
            "SMA50       0.87037\n",
            "Bulls       0.00825\n",
            "CCI           300.0\n",
            "DM              0.3\n",
            "OSMA         0.0015\n",
            "RSI              20\n",
            "Stoch            50\n",
            "Decision       WAIT\n",
            "dtype: object\n",
            "Minimalne wartosci to:  Close       0.65793\n",
            "SMA50       0.67356\n",
            "Bulls       -0.0105\n",
            "CCI          -310.0\n",
            "DM             -0.4\n",
            "OSMA         -0.001\n",
            "RSI             -20\n",
            "Stoch           -40\n",
            "Decision        BUY\n",
            "dtype: object\n"
          ]
        }
      ]
    },
    {
      "cell_type": "markdown",
      "source": [
        "## Normalizacja SMA50 i Bulls"
      ],
      "metadata": {
        "id": "fBV0l7X9-g1X"
      }
    },
    {
      "cell_type": "code",
      "source": [
        "atrybuty = ['SMA50', 'Bulls'] # kolumny wybrane do normalizacji\n",
        "\n",
        "for atrybut in atrybuty:        #normalizacja\n",
        "    maxx = zbior6[atrybuty].max()\n",
        "    minn = zbior6[atrybuty].min()\n",
        "    zbior6[atrybuty] = (zbior6[atrybuty] - minn) / (maxx - minn)\n",
        "print(zbior6)"
      ],
      "metadata": {
        "colab": {
          "base_uri": "https://localhost:8080/"
        },
        "id": "lM5FEp7y-skC",
        "outputId": "87cad3e8-e281-4ea2-8c23-f9b7b77b7167"
      },
      "execution_count": null,
      "outputs": [
        {
          "output_type": "stream",
          "name": "stdout",
          "text": [
            "        Close     SMA50     Bulls    CCI   DM    OSMA  RSI  Stoch    Decision\n",
            "0     0.72050  0.238504  0.560000   0.00  0.0  0.0000    0      0        WAIT\n",
            "1     0.72050  0.238504  0.560000   0.00  0.0  0.0000    0      0        WAIT\n",
            "2     0.72050  0.238504  0.560000   0.00  0.0  0.0000    0      0        WAIT\n",
            "3     0.72050  0.238504  0.560000   0.00  0.0  0.0000    0      0         BUY\n",
            "4     0.72050  0.238504  0.560000   0.00  0.0  0.0000    0      0   STRONGBUY\n",
            "...       ...       ...       ...    ...  ...     ...  ...    ...         ...\n",
            "2495  0.83869  0.971445  0.348800 -20.05  0.0  0.0005    0      0  STRONGSELL\n",
            "2496  0.82671  0.968142  0.547200 -99.95  0.0 -0.0005  -10    -40   STRONGBUY\n",
            "2497  0.82867  0.963518  0.384000  40.00  0.0  0.0000   10    -20  STRONGSELL\n",
            "2498  0.82929  0.959098  0.586667  20.00  0.0  0.0000    0      0  STRONGSELL\n",
            "2499  0.82980  0.954372  0.709867  20.00  0.0  0.0000    0     10  STRONGSELL\n",
            "\n",
            "[2500 rows x 9 columns]\n"
          ]
        }
      ]
    },
    {
      "cell_type": "markdown",
      "source": [
        "## Dyskretyzacja CCI i RSI"
      ],
      "metadata": {
        "id": "mGVvQ4k0EfZY"
      }
    },
    {
      "cell_type": "code",
      "source": [
        "# CCI podzielone na 2 kategorie\n",
        "etykiety = ['Kat 1', 'Kat 2']\n",
        "seria = pandas.Series(numpy.array(zbior6['CCI']))\n",
        "zbior6['CCI_kat'] = pandas.cut(seria,2,labels=etykiety)\n",
        "\n",
        "## RSI podzielone ne 4 kategorie\n",
        "etykiety2 = ['Kat 1', 'Kat 2', 'Kat 3', 'Kat 4']\n",
        "seria2 = pandas.Series(numpy.array(zbior6['RSI']))\n",
        "zbior6['RSI_kat'] = pandas.cut(seria2,4,labels=etykiety2)\n",
        "print(zbior6)"
      ],
      "metadata": {
        "colab": {
          "base_uri": "https://localhost:8080/"
        },
        "id": "Y15zNcKNEwQ5",
        "outputId": "92006f18-de7e-41ea-f73e-da8cb2744501"
      },
      "execution_count": null,
      "outputs": [
        {
          "output_type": "stream",
          "name": "stdout",
          "text": [
            "        Close     SMA50     Bulls    CCI   DM    OSMA  RSI  Stoch    Decision  \\\n",
            "0     0.72050  0.238504  0.560000   0.00  0.0  0.0000    0      0        WAIT   \n",
            "1     0.72050  0.238504  0.560000   0.00  0.0  0.0000    0      0        WAIT   \n",
            "2     0.72050  0.238504  0.560000   0.00  0.0  0.0000    0      0        WAIT   \n",
            "3     0.72050  0.238504  0.560000   0.00  0.0  0.0000    0      0         BUY   \n",
            "4     0.72050  0.238504  0.560000   0.00  0.0  0.0000    0      0   STRONGBUY   \n",
            "...       ...       ...       ...    ...  ...     ...  ...    ...         ...   \n",
            "2495  0.83869  0.971445  0.348800 -20.05  0.0  0.0005    0      0  STRONGSELL   \n",
            "2496  0.82671  0.968142  0.547200 -99.95  0.0 -0.0005  -10    -40   STRONGBUY   \n",
            "2497  0.82867  0.963518  0.384000  40.00  0.0  0.0000   10    -20  STRONGSELL   \n",
            "2498  0.82929  0.959098  0.586667  20.00  0.0  0.0000    0      0  STRONGSELL   \n",
            "2499  0.82980  0.954372  0.709867  20.00  0.0  0.0000    0     10  STRONGSELL   \n",
            "\n",
            "     CCI_kat RSI_kat  \n",
            "0      Kat 2   Kat 2  \n",
            "1      Kat 2   Kat 2  \n",
            "2      Kat 2   Kat 2  \n",
            "3      Kat 2   Kat 2  \n",
            "4      Kat 2   Kat 2  \n",
            "...      ...     ...  \n",
            "2495   Kat 1   Kat 2  \n",
            "2496   Kat 1   Kat 1  \n",
            "2497   Kat 2   Kat 3  \n",
            "2498   Kat 2   Kat 2  \n",
            "2499   Kat 2   Kat 2  \n",
            "\n",
            "[2500 rows x 11 columns]\n"
          ]
        }
      ]
    },
    {
      "cell_type": "markdown",
      "source": [
        "## Wykres kołowy Decision"
      ],
      "metadata": {
        "id": "JX6VgWxsJi5-"
      }
    },
    {
      "cell_type": "code",
      "source": [
        "zbior6['Decision'].value_counts().plot.pie(ylabel = '', title = \"Decision\")    #Usunęłam opis opis osi Y, bo mi sie nie podobał"
      ],
      "metadata": {
        "colab": {
          "base_uri": "https://localhost:8080/",
          "height": 445
        },
        "id": "989PTopWJqcl",
        "outputId": "631e1e48-eb24-4300-e436-68c5b15567ab"
      },
      "execution_count": null,
      "outputs": [
        {
          "output_type": "execute_result",
          "data": {
            "text/plain": [
              "<Axes: title={'center': 'Decision'}>"
            ]
          },
          "metadata": {},
          "execution_count": 90
        },
        {
          "output_type": "display_data",
          "data": {
            "text/plain": [
              "<Figure size 640x480 with 1 Axes>"
            ],
            "image/png": "[encoded data removed]"
          },
          "metadata": {}
        }
      ]
    },
    {
      "cell_type": "markdown",
      "source": [
        "## Wykres liniowy Close"
      ],
      "metadata": {
        "id": "9UvB3fwxLpYj"
      }
    },
    {
      "cell_type": "code",
      "source": [
        "zbior5['Close'].plot()"
      ],
      "metadata": {
        "colab": {
          "base_uri": "https://localhost:8080/",
          "height": 447
        },
        "id": "wCiRnZGtL1HP",
        "outputId": "b5f9f1fa-8656-42da-b86c-66a2038d694a"
      },
      "execution_count": null,
      "outputs": [
        {
          "output_type": "execute_result",
          "data": {
            "text/plain": [
              "<Axes: >"
            ]
          },
          "metadata": {},
          "execution_count": 91
        },
        {
          "output_type": "display_data",
          "data": {
            "text/plain": [
              "<Figure size 640x480 with 1 Axes>"
            ],
            "image/png": "[encoded data removed]"
          },
          "metadata": {}
        }
      ]
    },
    {
      "cell_type": "markdown",
      "source": [
        "## Zapisywanie pliku w formacie JSON"
      ],
      "metadata": {
        "id": "KW-WVs6sMWcm"
      }
    },
    {
      "cell_type": "code",
      "source": [
        "zbior6.to_json(\"zbior6.json\")"
      ],
      "metadata": {
        "id": "Sb4dngT5Mcx3"
      },
      "execution_count": null,
      "outputs": []
    }
  ]
}